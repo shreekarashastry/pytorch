{
 "cells": [
  {
   "cell_type": "code",
   "execution_count": 48,
   "id": "43993f44",
   "metadata": {},
   "outputs": [],
   "source": [
    "import torch \n",
    "import numpy as np"
   ]
  },
  {
   "cell_type": "code",
   "execution_count": 49,
   "id": "f0de48c2",
   "metadata": {},
   "outputs": [],
   "source": [
    "# Input and output\n",
    "inputs = np.array([[73, 67, 43], \n",
    "                   [91, 88, 64], \n",
    "                   [87, 134, 58], \n",
    "                   [102, 43, 37], \n",
    "                   [69, 96, 70]], dtype='float32')\n",
    "targets = np.array([[56, 70], \n",
    "                    [81, 101], \n",
    "                    [119, 133], \n",
    "                    [22, 37], \n",
    "                    [103, 119]], dtype='float32')"
   ]
  },
  {
   "cell_type": "code",
   "execution_count": 50,
   "id": "9a99e153",
   "metadata": {},
   "outputs": [
    {
     "name": "stdout",
     "output_type": "stream",
     "text": [
      "tensor([[ 73.,  67.,  43.],\n",
      "        [ 91.,  88.,  64.],\n",
      "        [ 87., 134.,  58.],\n",
      "        [102.,  43.,  37.],\n",
      "        [ 69.,  96.,  70.]])\n",
      "tensor([[ 56.,  70.],\n",
      "        [ 81., 101.],\n",
      "        [119., 133.],\n",
      "        [ 22.,  37.],\n",
      "        [103., 119.]])\n"
     ]
    }
   ],
   "source": [
    "#usually datasets are in numpy format, so converting them into tensors\n",
    "inputs = torch.from_numpy(inputs)\n",
    "targets = torch.from_numpy(targets)\n",
    "\n",
    "print(inputs)\n",
    "print(targets)"
   ]
  },
  {
   "cell_type": "code",
   "execution_count": 51,
   "id": "1afac647",
   "metadata": {},
   "outputs": [
    {
     "name": "stdout",
     "output_type": "stream",
     "text": [
      "tensor([[ 0.4848, -1.0568, -1.5461],\n",
      "        [ 0.5604,  1.1633,  1.0867]], requires_grad=True)\n",
      "tensor([-1.5144,  0.7359], requires_grad=True)\n"
     ]
    }
   ],
   "source": [
    "# requires_grad=True lets us differentiate the variable in the future using backword() function\n",
    "w = torch.randn(2,3, requires_grad=True)\n",
    "b = torch.randn(2, requires_grad=True)\n",
    "print(w)\n",
    "print(b)"
   ]
  },
  {
   "cell_type": "code",
   "execution_count": 52,
   "id": "c500fab6",
   "metadata": {},
   "outputs": [],
   "source": [
    "#defining a linear model '@' multiplies the tensor matrices\n",
    "def model(x):\n",
    "    return x @ w.t() + b"
   ]
  },
  {
   "cell_type": "code",
   "execution_count": 53,
   "id": "8d40cab6",
   "metadata": {},
   "outputs": [
    {
     "data": {
      "text/plain": [
       "tensor([[-103.4129,  166.3140],\n",
       "        [-149.3480,  223.6507],\n",
       "        [-190.6249,  268.4001],\n",
       "        [ -54.7123,  148.1277],\n",
       "        [-177.7455,  227.1476]], grad_fn=<AddBackward0>)"
      ]
     },
     "execution_count": 53,
     "metadata": {},
     "output_type": "execute_result"
    }
   ],
   "source": [
    "preds = model(inputs)\n",
    "preds # initial prediction with the randomized input "
   ]
  },
  {
   "cell_type": "code",
   "execution_count": 54,
   "id": "6511b20c",
   "metadata": {},
   "outputs": [],
   "source": [
    "#defining the loss function MSE=sum(y-y_hat)^2/n\n",
    "def mse(t1, t2):\n",
    "    diff = t1-t2\n",
    "    return torch.sum(diff*diff)/diff.numel()"
   ]
  },
  {
   "cell_type": "code",
   "execution_count": 55,
   "id": "2d623085",
   "metadata": {},
   "outputs": [
    {
     "name": "stdout",
     "output_type": "stream",
     "text": [
      "tensor(32574.1094, grad_fn=<DivBackward0>)\n"
     ]
    }
   ],
   "source": [
    "#calculating the loss for the predicted outputs\n",
    "loss = mse(preds, targets)\n",
    "print(loss)"
   ]
  },
  {
   "cell_type": "code",
   "execution_count": 56,
   "id": "12140e40",
   "metadata": {},
   "outputs": [],
   "source": [
    "#Finding the slope downwards \n",
    "loss.backward()"
   ]
  },
  {
   "cell_type": "code",
   "execution_count": 57,
   "id": "b92597c1",
   "metadata": {},
   "outputs": [
    {
     "name": "stdout",
     "output_type": "stream",
     "text": [
      "tensor([[-17346.4551, -20538.2461, -12409.1621],\n",
      "        [  9753.8311,  10110.1143,   6305.2817]])\n"
     ]
    }
   ],
   "source": [
    "# w.grad gives us the dy/dx for w variable \n",
    "print(w.grad)"
   ]
  },
  {
   "cell_type": "code",
   "execution_count": 58,
   "id": "6c7caeb6",
   "metadata": {},
   "outputs": [],
   "source": [
    "# Slowly moving downwards the slope using the learning parameter\n",
    "with torch.no_grad():\n",
    "    w -= w.grad*1e-5\n",
    "    b -= b.grad*1e-5"
   ]
  },
  {
   "cell_type": "code",
   "execution_count": 59,
   "id": "dd400ae3",
   "metadata": {},
   "outputs": [
    {
     "name": "stdout",
     "output_type": "stream",
     "text": [
      "tensor(32574.1094, grad_fn=<DivBackward0>)\n"
     ]
    }
   ],
   "source": [
    "# observe the change in loss\n",
    "loss = mse(preds, targets)\n",
    "print(loss)"
   ]
  },
  {
   "cell_type": "code",
   "execution_count": 60,
   "id": "abb5fb99",
   "metadata": {},
   "outputs": [
    {
     "name": "stdout",
     "output_type": "stream",
     "text": [
      "tensor([[0., 0., 0.],\n",
      "        [0., 0., 0.]])\n",
      "tensor([0., 0.])\n"
     ]
    }
   ],
   "source": [
    "# setting the gradient vector to zero because pytorch accumulates the gradients\n",
    "w.grad.zero_()\n",
    "b.grad.zero_()\n",
    "print(w.grad)\n",
    "print(b.grad)"
   ]
  },
  {
   "cell_type": "code",
   "execution_count": 61,
   "id": "3a8a6aa8",
   "metadata": {},
   "outputs": [],
   "source": [
    "preds = model(inputs)"
   ]
  },
  {
   "cell_type": "code",
   "execution_count": 62,
   "id": "ab74fb3c",
   "metadata": {},
   "outputs": [
    {
     "data": {
      "text/plain": [
       "tensor([[ -71.6513,  149.7075],\n",
       "        [-107.5451,  201.8413],\n",
       "        [-140.8128,  242.7085],\n",
       "        [ -23.5940,  131.4973],\n",
       "        [-137.3712,  206.2969]], grad_fn=<AddBackward0>)"
      ]
     },
     "execution_count": 62,
     "metadata": {},
     "output_type": "execute_result"
    }
   ],
   "source": [
    "preds"
   ]
  },
  {
   "cell_type": "code",
   "execution_count": 63,
   "id": "3ddac4ae",
   "metadata": {},
   "outputs": [],
   "source": [
    "loss = mse(preds, targets)"
   ]
  },
  {
   "cell_type": "code",
   "execution_count": 64,
   "id": "083a0898",
   "metadata": {},
   "outputs": [
    {
     "name": "stdout",
     "output_type": "stream",
     "text": [
      "tensor(22431.2617, grad_fn=<DivBackward0>)\n"
     ]
    }
   ],
   "source": [
    "print(loss)"
   ]
  },
  {
   "cell_type": "code",
   "execution_count": 65,
   "id": "f0ce97be",
   "metadata": {},
   "outputs": [],
   "source": [
    "loss.backward()"
   ]
  },
  {
   "cell_type": "code",
   "execution_count": 66,
   "id": "a16ca4c8",
   "metadata": {},
   "outputs": [
    {
     "data": {
      "text/plain": [
       "tensor([-172.3949,   94.4103])"
      ]
     },
     "execution_count": 66,
     "metadata": {},
     "output_type": "execute_result"
    }
   ],
   "source": [
    "w.grad\n",
    "b.grad"
   ]
  },
  {
   "cell_type": "code",
   "execution_count": 67,
   "id": "04d84e0a",
   "metadata": {},
   "outputs": [],
   "source": [
    "with torch.no_grad():\n",
    "    w -= w.grad * 1e-5\n",
    "    b -= b.grad * 1e-5\n",
    "    w.grad.zero_()\n",
    "    b.grad.zero_()"
   ]
  },
  {
   "cell_type": "code",
   "execution_count": 68,
   "id": "44e0c0b4",
   "metadata": {},
   "outputs": [
    {
     "name": "stdout",
     "output_type": "stream",
     "text": [
      "tensor([[ 0.7989, -0.6815, -1.3197],\n",
      "        [ 0.3825,  0.9795,  0.9719]], requires_grad=True) tensor([-1.5106,  0.7338], requires_grad=True)\n"
     ]
    }
   ],
   "source": [
    "print(w,b)"
   ]
  },
  {
   "cell_type": "code",
   "execution_count": 69,
   "id": "5cc147dc",
   "metadata": {},
   "outputs": [],
   "source": [
    "preds = model(inputs)"
   ]
  },
  {
   "cell_type": "code",
   "execution_count": 70,
   "id": "ecddf604",
   "metadata": {},
   "outputs": [],
   "source": [
    "loss = mse(preds, targets)"
   ]
  },
  {
   "cell_type": "code",
   "execution_count": 71,
   "id": "a104ab35",
   "metadata": {},
   "outputs": [
    {
     "data": {
      "text/plain": [
       "tensor(15590.4766, grad_fn=<DivBackward0>)"
      ]
     },
     "execution_count": 71,
     "metadata": {},
     "output_type": "execute_result"
    }
   ],
   "source": [
    "loss"
   ]
  },
  {
   "cell_type": "code",
   "execution_count": 72,
   "id": "1b6df985",
   "metadata": {},
   "outputs": [],
   "source": [
    "for i in range(0,1000):\n",
    "    preds = model(inputs)\n",
    "    loss = mse(preds, targets)\n",
    "    loss.backward()\n",
    "    with torch.no_grad():\n",
    "        w -= w.grad * 1e-5\n",
    "        b -= b.grad * 1e-5\n",
    "        w.grad.zero_()\n",
    "        b.grad.zero_()"
   ]
  },
  {
   "cell_type": "code",
   "execution_count": 73,
   "id": "9885b88f",
   "metadata": {},
   "outputs": [
    {
     "name": "stdout",
     "output_type": "stream",
     "text": [
      "tensor(17.8577, grad_fn=<DivBackward0>)\n"
     ]
    }
   ],
   "source": [
    "preds = model(inputs)\n",
    "loss = mse(preds, targets)\n",
    "print(loss)"
   ]
  },
  {
   "cell_type": "code",
   "execution_count": 74,
   "id": "a6d9ae38",
   "metadata": {},
   "outputs": [
    {
     "data": {
      "text/plain": [
       "(tensor([[ 57.4333,  70.4861],\n",
       "         [ 78.2492, 100.1789],\n",
       "         [127.2584, 133.7932],\n",
       "         [ 23.6911,  37.2759],\n",
       "         [ 93.2146, 118.2746]], grad_fn=<AddBackward0>),\n",
       " tensor([[ 56.,  70.],\n",
       "         [ 81., 101.],\n",
       "         [119., 133.],\n",
       "         [ 22.,  37.],\n",
       "         [103., 119.]]))"
      ]
     },
     "execution_count": 74,
     "metadata": {},
     "output_type": "execute_result"
    }
   ],
   "source": [
    "preds, targets\n"
   ]
  },
  {
   "cell_type": "code",
   "execution_count": 75,
   "id": "cce676b2",
   "metadata": {},
   "outputs": [],
   "source": [
    "inputs = np.array([[73, 67, 43], \n",
    "                   [91, 88, 64], \n",
    "                   [87, 134, 58], \n",
    "                   [102, 43, 37], \n",
    "                   [69, 96, 70], \n",
    "                   [74, 66, 43], \n",
    "                   [91, 87, 65], \n",
    "                   [88, 134, 59], \n",
    "                   [101, 44, 37], \n",
    "                   [68, 96, 71], \n",
    "                   [73, 66, 44], \n",
    "                   [92, 87, 64], \n",
    "                   [87, 135, 57], \n",
    "                   [103, 43, 36], \n",
    "                   [68, 97, 70]], \n",
    "                  dtype='float32')\n",
    "\n",
    "targets = np.array([[56, 70], \n",
    "                    [81, 101], \n",
    "                    [119, 133], \n",
    "                    [22, 37], \n",
    "                    [103, 119],\n",
    "                    [57, 69], \n",
    "                    [80, 102], \n",
    "                    [118, 132], \n",
    "                    [21, 38], \n",
    "                    [104, 118], \n",
    "                    [57, 69], \n",
    "                    [82, 100], \n",
    "                    [118, 134], \n",
    "                    [20, 38], \n",
    "                    [102, 120]], \n",
    "                   dtype='float32')\n",
    "\n",
    "inputs = torch.from_numpy(inputs)\n",
    "targets = torch.from_numpy(targets)"
   ]
  },
  {
   "cell_type": "code",
   "execution_count": 76,
   "id": "533f7244",
   "metadata": {},
   "outputs": [],
   "source": [
    "# Dataset loader\n",
    "from torch.utils.data import TensorDataset"
   ]
  },
  {
   "cell_type": "code",
   "execution_count": 77,
   "id": "d4a8a5a4",
   "metadata": {},
   "outputs": [
    {
     "data": {
      "text/plain": [
       "(tensor([[ 73.,  67.,  43.],\n",
       "         [ 91.,  88.,  64.],\n",
       "         [ 87., 134.,  58.]]),\n",
       " tensor([[ 56.,  70.],\n",
       "         [ 81., 101.],\n",
       "         [119., 133.]]))"
      ]
     },
     "execution_count": 77,
     "metadata": {},
     "output_type": "execute_result"
    }
   ],
   "source": [
    "train_ds = TensorDataset(inputs, targets)\n",
    "train_ds[0:3]"
   ]
  },
  {
   "cell_type": "code",
   "execution_count": 78,
   "id": "c29b6a78",
   "metadata": {},
   "outputs": [],
   "source": [
    "from torch.utils.data import DataLoader\n",
    "from torch import nn"
   ]
  },
  {
   "cell_type": "code",
   "execution_count": 79,
   "id": "a3f9d127",
   "metadata": {},
   "outputs": [],
   "source": [
    "batch_size = 5\n",
    "train_dl = DataLoader(train_ds, batch_size, shuffle=True)"
   ]
  },
  {
   "cell_type": "code",
   "execution_count": 80,
   "id": "2f7d2146",
   "metadata": {},
   "outputs": [
    {
     "name": "stdout",
     "output_type": "stream",
     "text": [
      "Parameter containing:\n",
      "tensor([[ 0.1591,  0.3752, -0.2354],\n",
      "        [ 0.3384,  0.4767, -0.0783]], requires_grad=True)\n",
      "Parameter containing:\n",
      "tensor([ 0.0370, -0.0266], requires_grad=True)\n"
     ]
    }
   ],
   "source": [
    "model = nn.Linear(3,2)\n",
    "print(model.weight)\n",
    "print(model.bias)"
   ]
  },
  {
   "cell_type": "code",
   "execution_count": 81,
   "id": "f02fc06c",
   "metadata": {},
   "outputs": [
    {
     "data": {
      "text/plain": [
       "[Parameter containing:\n",
       " tensor([[ 0.1591,  0.3752, -0.2354],\n",
       "         [ 0.3384,  0.4767, -0.0783]], requires_grad=True),\n",
       " Parameter containing:\n",
       " tensor([ 0.0370, -0.0266], requires_grad=True)]"
      ]
     },
     "execution_count": 81,
     "metadata": {},
     "output_type": "execute_result"
    }
   ],
   "source": [
    "list(model.parameters())"
   ]
  },
  {
   "cell_type": "code",
   "execution_count": 82,
   "id": "6e29ba2a",
   "metadata": {},
   "outputs": [],
   "source": [
    "preds = model(inputs)"
   ]
  },
  {
   "cell_type": "code",
   "execution_count": 83,
   "id": "aeb92106",
   "metadata": {},
   "outputs": [
    {
     "data": {
      "text/plain": [
       "tensor([[26.6722, 53.2516],\n",
       "        [32.4734, 67.7103],\n",
       "        [50.5086, 88.7551],\n",
       "        [23.6944, 52.0941],\n",
       "        [30.5620, 63.6092],\n",
       "        [26.4562, 53.1133],\n",
       "        [31.8629, 67.1553],\n",
       "        [50.4323, 89.0152],\n",
       "        [23.9104, 52.2324],\n",
       "        [30.1675, 63.1925],\n",
       "        [26.0617, 52.6966],\n",
       "        [32.2574, 67.5720],\n",
       "        [51.1191, 89.3101],\n",
       "        [24.0889, 52.5108],\n",
       "        [30.7780, 63.7475]], grad_fn=<AddmmBackward>)"
      ]
     },
     "execution_count": 83,
     "metadata": {},
     "output_type": "execute_result"
    }
   ],
   "source": [
    "preds"
   ]
  },
  {
   "cell_type": "code",
   "execution_count": 84,
   "id": "a83f63f5",
   "metadata": {},
   "outputs": [],
   "source": [
    "import torch.nn.functional as F"
   ]
  },
  {
   "cell_type": "code",
   "execution_count": 85,
   "id": "0a4c7b66",
   "metadata": {},
   "outputs": [],
   "source": [
    "loss_fn = F.mse_loss"
   ]
  },
  {
   "cell_type": "code",
   "execution_count": 86,
   "id": "326cae29",
   "metadata": {},
   "outputs": [],
   "source": [
    "loss = loss_fn(model(inputs), targets)"
   ]
  },
  {
   "cell_type": "code",
   "execution_count": 87,
   "id": "7636d10c",
   "metadata": {},
   "outputs": [
    {
     "data": {
      "text/plain": [
       "tensor(1975.9208, grad_fn=<MseLossBackward>)"
      ]
     },
     "execution_count": 87,
     "metadata": {},
     "output_type": "execute_result"
    }
   ],
   "source": [
    "loss"
   ]
  },
  {
   "cell_type": "code",
   "execution_count": 88,
   "id": "1a48754a",
   "metadata": {},
   "outputs": [],
   "source": [
    "opt = torch.optim.SGD(model.parameters(), lr=1e-5)"
   ]
  },
  {
   "cell_type": "code",
   "execution_count": 89,
   "id": "19bc5d63",
   "metadata": {},
   "outputs": [],
   "source": [
    "import sys"
   ]
  },
  {
   "cell_type": "code",
   "execution_count": 90,
   "id": "3621d9e0",
   "metadata": {},
   "outputs": [],
   "source": [
    "def fitting(n_epoch, model, loss_fn, opt, train_dl):\n",
    "    \n",
    "    min_loss = 10000000000\n",
    "    \n",
    "    for epoch in range(n_epoch):\n",
    "        \n",
    "        for x,y in train_dl:\n",
    "            \n",
    "            pred = model(x)\n",
    "            \n",
    "            loss = loss_fn(pred, y)\n",
    "            \n",
    "            loss.backward()\n",
    "            \n",
    "            opt.step()\n",
    "            \n",
    "            opt.zero_grad()\n",
    "            \n",
    "            if loss <= min_loss:\n",
    "                min_loss = loss\n",
    "        \n",
    "        if (epoch+1)%10 == 0:\n",
    "            print('loss and min loss',loss, min_loss)"
   ]
  },
  {
   "cell_type": "code",
   "execution_count": 91,
   "id": "1a030e6b",
   "metadata": {},
   "outputs": [
    {
     "name": "stdout",
     "output_type": "stream",
     "text": [
      "loss and min loss tensor(550.9150, grad_fn=<MseLossBackward>) tensor(34.4619, grad_fn=<MseLossBackward>)\n",
      "loss and min loss tensor(248.5423, grad_fn=<MseLossBackward>) tensor(13.0725, grad_fn=<MseLossBackward>)\n",
      "loss and min loss tensor(341.3757, grad_fn=<MseLossBackward>) tensor(9.6681, grad_fn=<MseLossBackward>)\n",
      "loss and min loss tensor(216.6019, grad_fn=<MseLossBackward>) tensor(9.6681, grad_fn=<MseLossBackward>)\n",
      "loss and min loss tensor(130.9000, grad_fn=<MseLossBackward>) tensor(9.6681, grad_fn=<MseLossBackward>)\n",
      "loss and min loss tensor(91.0495, grad_fn=<MseLossBackward>) tensor(9.6681, grad_fn=<MseLossBackward>)\n",
      "loss and min loss tensor(49.3795, grad_fn=<MseLossBackward>) tensor(9.6681, grad_fn=<MseLossBackward>)\n",
      "loss and min loss tensor(48.3378, grad_fn=<MseLossBackward>) tensor(9.6681, grad_fn=<MseLossBackward>)\n",
      "loss and min loss tensor(84.0615, grad_fn=<MseLossBackward>) tensor(9.6681, grad_fn=<MseLossBackward>)\n",
      "loss and min loss tensor(94.7350, grad_fn=<MseLossBackward>) tensor(9.6681, grad_fn=<MseLossBackward>)\n"
     ]
    }
   ],
   "source": [
    "fitting(100, model, loss_fn, opt, train_dl)"
   ]
  },
  {
   "cell_type": "code",
   "execution_count": 92,
   "id": "d0b278d8",
   "metadata": {},
   "outputs": [],
   "source": [
    "preds = model(inputs)"
   ]
  },
  {
   "cell_type": "code",
   "execution_count": 93,
   "id": "54eb50e4",
   "metadata": {},
   "outputs": [
    {
     "data": {
      "text/plain": [
       "tensor([[ 58.3231,  71.7207],\n",
       "        [ 78.6731,  96.6002],\n",
       "        [123.6701, 139.4445],\n",
       "        [ 28.2929,  45.1386],\n",
       "        [ 91.6584, 107.3477],\n",
       "        [ 57.1499,  70.6955],\n",
       "        [ 77.8439,  95.9150],\n",
       "        [123.6304, 139.6582],\n",
       "        [ 29.4661,  46.1638],\n",
       "        [ 92.0024, 107.6878],\n",
       "        [ 57.4939,  71.0356],\n",
       "        [ 77.4998,  95.5750],\n",
       "        [124.4993, 140.1297],\n",
       "        [ 27.9488,  44.7985],\n",
       "        [ 92.8316, 108.3729]], grad_fn=<AddmmBackward>)"
      ]
     },
     "execution_count": 93,
     "metadata": {},
     "output_type": "execute_result"
    }
   ],
   "source": [
    "preds"
   ]
  },
  {
   "cell_type": "code",
   "execution_count": 94,
   "id": "d6e2ad57",
   "metadata": {},
   "outputs": [
    {
     "data": {
      "text/plain": [
       "tensor([[54.1661, 68.0232]], grad_fn=<AddmmBackward>)"
      ]
     },
     "execution_count": 94,
     "metadata": {},
     "output_type": "execute_result"
    }
   ],
   "source": [
    "model(torch.tensor([[75, 63, 44.]]))"
   ]
  },
  {
   "cell_type": "code",
   "execution_count": null,
   "id": "a6b085f5",
   "metadata": {},
   "outputs": [],
   "source": []
  }
 ],
 "metadata": {
  "kernelspec": {
   "display_name": "Python 3 (ipykernel)",
   "language": "python",
   "name": "python3"
  },
  "language_info": {
   "codemirror_mode": {
    "name": "ipython",
    "version": 3
   },
   "file_extension": ".py",
   "mimetype": "text/x-python",
   "name": "python",
   "nbconvert_exporter": "python",
   "pygments_lexer": "ipython3",
   "version": "3.9.7"
  }
 },
 "nbformat": 4,
 "nbformat_minor": 5
}
