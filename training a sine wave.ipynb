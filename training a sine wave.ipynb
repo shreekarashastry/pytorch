{
 "cells": [
  {
   "cell_type": "code",
   "execution_count": 138,
   "id": "1006955b",
   "metadata": {},
   "outputs": [],
   "source": [
    "import torch\n",
    "from torch import nn\n",
    "import math\n",
    "import numpy as np\n",
    "import matplotlib.pyplot as plt\n",
    "import pandas as pd"
   ]
  },
  {
   "cell_type": "code",
   "execution_count": 139,
   "id": "e37180f9",
   "metadata": {},
   "outputs": [],
   "source": [
    "x = np.arange(- math.pi/2 , math.pi/2 ,1/32)"
   ]
  },
  {
   "cell_type": "code",
   "execution_count": 140,
   "id": "5aad2a30",
   "metadata": {},
   "outputs": [],
   "source": [
    "target = [ math.sin(v) for v in x] "
   ]
  },
  {
   "cell_type": "code",
   "execution_count": 141,
   "id": "69f0c577",
   "metadata": {},
   "outputs": [
    {
     "data": {
      "text/plain": [
       "[<matplotlib.lines.Line2D at 0x7fb408e8f640>]"
      ]
     },
     "execution_count": 141,
     "metadata": {},
     "output_type": "execute_result"
    },
    {
     "data": {
      "image/png": "[encoded data removed]",
      "text/plain": [
       "<Figure size 432x288 with 1 Axes>"
      ]
     },
     "metadata": {
      "needs_background": "light"
     },
     "output_type": "display_data"
    }
   ],
   "source": [
    "x_data = torch.tensor(x)\n",
    "y_data = torch.tensor(target)\n",
    "len(x_data)\n",
    "plt.plot(x_data, y_data)"
   ]
  },
  {
   "cell_type": "code",
   "execution_count": 142,
   "id": "66d3df2d",
   "metadata": {},
   "outputs": [
    {
     "data": {
      "text/plain": [
       "'\\ndef data(df):\\n    def __init__(self, path):\\n        self.x = df.x\\n        self.y = df.y\\n        \\n    def length(self):\\n        return len(self.x)\\n    \\n    def getitem(i):\\n        return self.x[i], self.y[i]\\n'"
      ]
     },
     "execution_count": 142,
     "metadata": {},
     "output_type": "execute_result"
    }
   ],
   "source": [
    "'''\n",
    "def data(df):\n",
    "    def __init__(self, path):\n",
    "        self.x = df.x\n",
    "        self.y = df.y\n",
    "        \n",
    "    def length(self):\n",
    "        return len(self.x)\n",
    "    \n",
    "    def getitem(i):\n",
    "        return self.x[i], self.y[i]\n",
    "'''"
   ]
  },
  {
   "cell_type": "code",
   "execution_count": 143,
   "id": "da37c0d0",
   "metadata": {},
   "outputs": [],
   "source": [
    "class DeepModel(nn.Module):\n",
    "    def __init__(self):\n",
    "        super(DeepModel, self).__init__()\n",
    "        #self.flatten = nn.Flatten()\n",
    "        self.linear_relu = nn.Sequential(\n",
    "            nn.Linear(1, 32),\n",
    "            nn.ReLU(),\n",
    "            nn.Linear(32, 64),\n",
    "            nn.ReLU(),\n",
    "            nn.Linear(64, 1),\n",
    "        )\n",
    "    \n",
    "    def forward(self,inputs):\n",
    "        #x = self.flatten(inputs)\n",
    "        return self.linear_relu(inputs)\n",
    "model = DeepModel()"
   ]
  },
  {
   "cell_type": "code",
   "execution_count": 144,
   "id": "bc05c458",
   "metadata": {},
   "outputs": [
    {
     "data": {
      "text/plain": [
       "(tensor([-1.5708, -1.5395, -1.5083], dtype=torch.float64),\n",
       " tensor([-1.0000, -0.9995, -0.9980]))"
      ]
     },
     "execution_count": 144,
     "metadata": {},
     "output_type": "execute_result"
    }
   ],
   "source": [
    "from torch.utils.data import TensorDataset\n",
    "train_ds = TensorDataset(x_data, y_data)\n",
    "train_ds[0:3]"
   ]
  },
  {
   "cell_type": "code",
   "execution_count": 145,
   "id": "412b0d82",
   "metadata": {},
   "outputs": [
    {
     "name": "stdout",
     "output_type": "stream",
     "text": [
      "<generator object Module.parameters at 0x7fb4289e3970>\n"
     ]
    }
   ],
   "source": [
    "print(model.parameters())"
   ]
  },
  {
   "cell_type": "code",
   "execution_count": 146,
   "id": "a3896580",
   "metadata": {},
   "outputs": [],
   "source": [
    "import torch.nn.functional as F\n",
    "\n",
    "loss_fn = F.mse_loss\n",
    "opt = torch.optim.SGD(model.parameters(), lr=1e-5)"
   ]
  },
  {
   "cell_type": "code",
   "execution_count": 153,
   "id": "7d143f2c",
   "metadata": {},
   "outputs": [],
   "source": [
    "preds = []\n",
    "\n",
    "for t in range(1000): \n",
    "    preds= []\n",
    "    for x,y in train_ds:\n",
    "        pred = model(x.reshape(-1).float())\n",
    "        loss = loss_fn(pred, y.reshape(-1).float())\n",
    "        loss.backward()\n",
    "        opt.step()\n",
    "        opt.zero_grad()\n",
    "        preds.append(pred.item())"
   ]
  },
  {
   "cell_type": "code",
   "execution_count": 154,
   "id": "6def15ee",
   "metadata": {},
   "outputs": [],
   "source": [
    "y_pred = preds"
   ]
  },
  {
   "cell_type": "code",
   "execution_count": 155,
   "id": "4325168c",
   "metadata": {},
   "outputs": [
    {
     "data": {
      "text/plain": [
       "[<matplotlib.lines.Line2D at 0x7fb3e8178f10>]"
      ]
     },
     "execution_count": 155,
     "metadata": {},
     "output_type": "execute_result"
    },
    {
     "data": {
      "image/png": "[encoded data removed]",
      "text/plain": [
       "<Figure size 432x288 with 1 Axes>"
      ]
     },
     "metadata": {
      "needs_background": "light"
     },
     "output_type": "display_data"
    }
   ],
   "source": [
    "plt.plot(x_data,y_pred)"
   ]
  }
 ],
 "metadata": {
  "kernelspec": {
   "display_name": "Python 3 (ipykernel)",
   "language": "python",
   "name": "python3"
  },
  "language_info": {
   "codemirror_mode": {
    "name": "ipython",
    "version": 3
   },
   "file_extension": ".py",
   "mimetype": "text/x-python",
   "name": "python",
   "nbconvert_exporter": "python",
   "pygments_lexer": "ipython3",
   "version": "3.9.7"
  }
 },
 "nbformat": 4,
 "nbformat_minor": 5
}
